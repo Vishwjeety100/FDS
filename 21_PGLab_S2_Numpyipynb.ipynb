{
  "nbformat": 4,
  "nbformat_minor": 0,
  "metadata": {
    "colab": {
      "name": "21_PGLab_S2_Numpyipynb.ipynb",
      "provenance": [],
      "collapsed_sections": []
    },
    "kernelspec": {
      "name": "python3",
      "display_name": "Python 3"
    },
    "language_info": {
      "name": "python"
    }
  },
  "cells": [
    {
      "cell_type": "code",
      "metadata": {
        "colab": {
          "base_uri": "https://localhost:8080/",
          "height": 35
        },
        "id": "Z6vgbcoGbCTz",
        "outputId": "26f45405-3e29-44fb-ea07-573ccbf57307"
      },
      "source": [
        "import numpy\n",
        "numpy.__version__"
      ],
      "execution_count": null,
      "outputs": [
        {
          "output_type": "execute_result",
          "data": {
            "application/vnd.google.colaboratory.intrinsic+json": {
              "type": "string"
            },
            "text/plain": [
              "'1.19.5'"
            ]
          },
          "metadata": {},
          "execution_count": 2
        }
      ]
    },
    {
      "cell_type": "code",
      "metadata": {
        "colab": {
          "base_uri": "https://localhost:8080/"
        },
        "id": "fp6KGTQvcP-f",
        "outputId": "bbfba5ba-ffba-4c05-fb3f-1a6bfbd51951"
      },
      "source": [
        "list1=[]\n",
        "list1"
      ],
      "execution_count": null,
      "outputs": [
        {
          "output_type": "execute_result",
          "data": {
            "text/plain": [
              "[]"
            ]
          },
          "metadata": {},
          "execution_count": 3
        }
      ]
    },
    {
      "cell_type": "code",
      "metadata": {
        "colab": {
          "base_uri": "https://localhost:8080/"
        },
        "id": "H3fVrXptcVLy",
        "outputId": "5ec93a1d-bc85-417a-a014-0fde1e4450c4"
      },
      "source": [
        "type(list1)"
      ],
      "execution_count": null,
      "outputs": [
        {
          "output_type": "execute_result",
          "data": {
            "text/plain": [
              "list"
            ]
          },
          "metadata": {},
          "execution_count": 4
        }
      ]
    },
    {
      "cell_type": "code",
      "metadata": {
        "colab": {
          "base_uri": "https://localhost:8080/"
        },
        "id": "MmmigXX7cU_C",
        "outputId": "037f5319-a6b2-45b2-e10c-f6c287927371"
      },
      "source": [
        "list2=list(range(10))\n",
        "list2"
      ],
      "execution_count": null,
      "outputs": [
        {
          "output_type": "execute_result",
          "data": {
            "text/plain": [
              "[0, 1, 2, 3, 4, 5, 6, 7, 8, 9]"
            ]
          },
          "metadata": {},
          "execution_count": 5
        }
      ]
    },
    {
      "cell_type": "code",
      "metadata": {
        "colab": {
          "base_uri": "https://localhost:8080/"
        },
        "id": "7fBQRSeLdm58",
        "outputId": "e56ffa81-a31a-45bd-ee3d-e5d546d002fe"
      },
      "source": [
        "list3=[str(c) for c in list2 ]\n",
        "list3"
      ],
      "execution_count": null,
      "outputs": [
        {
          "output_type": "execute_result",
          "data": {
            "text/plain": [
              "['0', '1', '2', '3', '4', '5', '6', '7', '8', '9']"
            ]
          },
          "metadata": {},
          "execution_count": 6
        }
      ]
    },
    {
      "cell_type": "code",
      "metadata": {
        "colab": {
          "base_uri": "https://localhost:8080/"
        },
        "id": "pwDlEO4jeIOC",
        "outputId": "78aad129-1398-45a7-8176-c7e4ad7f50a3"
      },
      "source": [
        "list4=[1,10.2,'amit',True]\n",
        "list4"
      ],
      "execution_count": null,
      "outputs": [
        {
          "output_type": "execute_result",
          "data": {
            "text/plain": [
              "[1, 10.2, 'amit', True]"
            ]
          },
          "metadata": {},
          "execution_count": 7
        }
      ]
    },
    {
      "cell_type": "code",
      "metadata": {
        "colab": {
          "base_uri": "https://localhost:8080/"
        },
        "id": "5QE9qJ9Je27Z",
        "outputId": "50644c08-3460-40b3-fbf6-94e62c124db7"
      },
      "source": [
        "type(list4)"
      ],
      "execution_count": null,
      "outputs": [
        {
          "output_type": "execute_result",
          "data": {
            "text/plain": [
              "list"
            ]
          },
          "metadata": {},
          "execution_count": 8
        }
      ]
    },
    {
      "cell_type": "code",
      "metadata": {
        "colab": {
          "base_uri": "https://localhost:8080/"
        },
        "id": "M-PlXAjCfPJI",
        "outputId": "a7338d03-3ecc-497c-e893-8e50d4253668"
      },
      "source": [
        "[type(item) for item in list4]"
      ],
      "execution_count": null,
      "outputs": [
        {
          "output_type": "execute_result",
          "data": {
            "text/plain": [
              "[int, float, str, bool]"
            ]
          },
          "metadata": {},
          "execution_count": 9
        }
      ]
    },
    {
      "cell_type": "code",
      "metadata": {
        "colab": {
          "base_uri": "https://localhost:8080/"
        },
        "id": "Qe3DmLBViVuQ",
        "outputId": "2d48bf4e-91db-4fc3-c1e0-04f26d8be9e6"
      },
      "source": [
        "import array as ar\n",
        "L=list(range(10))\n",
        "A=ar.array('i',L)\n",
        "A"
      ],
      "execution_count": null,
      "outputs": [
        {
          "output_type": "execute_result",
          "data": {
            "text/plain": [
              "array('i', [0, 1, 2, 3, 4, 5, 6, 7, 8, 9])"
            ]
          },
          "metadata": {},
          "execution_count": 12
        }
      ]
    },
    {
      "cell_type": "code",
      "metadata": {
        "colab": {
          "base_uri": "https://localhost:8080/"
        },
        "id": "RVhLriLQjyL9",
        "outputId": "3a9c22f2-575b-4bb3-a6ff-a0d450adab6f"
      },
      "source": [
        "import numpy as np\n",
        "np.array([1,4,2,5,3])"
      ],
      "execution_count": null,
      "outputs": [
        {
          "output_type": "execute_result",
          "data": {
            "text/plain": [
              "array([1, 4, 2, 5, 3])"
            ]
          },
          "metadata": {},
          "execution_count": 15
        }
      ]
    },
    {
      "cell_type": "code",
      "metadata": {
        "colab": {
          "base_uri": "https://localhost:8080/"
        },
        "id": "7a_zoQkyjx2u",
        "outputId": "ebd6abf5-bbc8-4775-88b9-aaedc69d6deb"
      },
      "source": [
        "np.array([1,2,3,4] ,dtype='float32')"
      ],
      "execution_count": null,
      "outputs": [
        {
          "output_type": "execute_result",
          "data": {
            "text/plain": [
              "array([1., 2., 3., 4.], dtype=float32)"
            ]
          },
          "metadata": {},
          "execution_count": 18
        }
      ]
    },
    {
      "cell_type": "code",
      "metadata": {
        "colab": {
          "base_uri": "https://localhost:8080/"
        },
        "id": "3HNUok-TlAzg",
        "outputId": "8d7541e0-77b7-4dbd-9524-32b438544b25"
      },
      "source": [
        "#[[, ,],[, ,],[, ,]]\n",
        "np.array([range(i, i + 3) for i in [2, 4, 6]])"
      ],
      "execution_count": null,
      "outputs": [
        {
          "output_type": "execute_result",
          "data": {
            "text/plain": [
              "array([[2, 3, 4],\n",
              "       [4, 5, 6],\n",
              "       [6, 7, 8]])"
            ]
          },
          "metadata": {},
          "execution_count": 21
        }
      ]
    },
    {
      "cell_type": "code",
      "metadata": {
        "colab": {
          "base_uri": "https://localhost:8080/"
        },
        "id": "5LPzwkv7mNP5",
        "outputId": "58525d4f-954f-4800-de89-3f3a14b7eb2e"
      },
      "source": [
        "np.zeros(10,dtype='int')"
      ],
      "execution_count": null,
      "outputs": [
        {
          "output_type": "execute_result",
          "data": {
            "text/plain": [
              "array([0, 0, 0, 0, 0, 0, 0, 0, 0, 0])"
            ]
          },
          "metadata": {},
          "execution_count": 22
        }
      ]
    },
    {
      "cell_type": "code",
      "metadata": {
        "colab": {
          "base_uri": "https://localhost:8080/"
        },
        "id": "zjzMcm4Jmius",
        "outputId": "19492f97-fb33-4047-b094-190a7a5f9552"
      },
      "source": [
        "np.zeros((2,5),dtype='float')"
      ],
      "execution_count": null,
      "outputs": [
        {
          "output_type": "execute_result",
          "data": {
            "text/plain": [
              "array([[0., 0., 0., 0., 0.],\n",
              "       [0., 0., 0., 0., 0.]])"
            ]
          },
          "metadata": {},
          "execution_count": 23
        }
      ]
    },
    {
      "cell_type": "code",
      "metadata": {
        "colab": {
          "base_uri": "https://localhost:8080/"
        },
        "id": "eeN1vsUumyz7",
        "outputId": "7735a3ab-57b3-463e-bf85-615f78e24605"
      },
      "source": [
        "np.ones((2,5),dtype='float')"
      ],
      "execution_count": null,
      "outputs": [
        {
          "output_type": "execute_result",
          "data": {
            "text/plain": [
              "array([[1., 1., 1., 1., 1.],\n",
              "       [1., 1., 1., 1., 1.]])"
            ]
          },
          "metadata": {},
          "execution_count": 24
        }
      ]
    },
    {
      "cell_type": "code",
      "metadata": {
        "colab": {
          "base_uri": "https://localhost:8080/"
        },
        "id": "2s6Blox-nFBU",
        "outputId": "0065a722-f0b6-44d7-9c54-11b9c6d0fc13"
      },
      "source": [
        "np.full((2,6),3.0)"
      ],
      "execution_count": null,
      "outputs": [
        {
          "output_type": "execute_result",
          "data": {
            "text/plain": [
              "array([[3., 3., 3., 3., 3., 3.],\n",
              "       [3., 3., 3., 3., 3., 3.]])"
            ]
          },
          "metadata": {},
          "execution_count": 25
        }
      ]
    },
    {
      "cell_type": "code",
      "metadata": {
        "colab": {
          "base_uri": "https://localhost:8080/"
        },
        "id": "QB7gH0LGnfSA",
        "outputId": "65f527fa-4f12-4412-cfda-dc50b17a410c"
      },
      "source": [
        "np.arange(0,20,3)"
      ],
      "execution_count": null,
      "outputs": [
        {
          "output_type": "execute_result",
          "data": {
            "text/plain": [
              "array([ 0,  3,  6,  9, 12, 15, 18])"
            ]
          },
          "metadata": {},
          "execution_count": 27
        }
      ]
    },
    {
      "cell_type": "code",
      "metadata": {
        "colab": {
          "base_uri": "https://localhost:8080/"
        },
        "id": "8-DGtZ11okKc",
        "outputId": "ba7d9c91-97bb-4a22-f29b-088fe267860c"
      },
      "source": [
        "np.linspace(0,1,5)"
      ],
      "execution_count": null,
      "outputs": [
        {
          "output_type": "execute_result",
          "data": {
            "text/plain": [
              "array([0.  , 0.25, 0.5 , 0.75, 1.  ])"
            ]
          },
          "metadata": {},
          "execution_count": 29
        }
      ]
    },
    {
      "cell_type": "code",
      "metadata": {
        "colab": {
          "base_uri": "https://localhost:8080/"
        },
        "id": "foXi_7wUpM3p",
        "outputId": "660924a5-cb5f-4b3d-c27a-e60097f57c2f"
      },
      "source": [
        "np.random.random((3,4))"
      ],
      "execution_count": null,
      "outputs": [
        {
          "output_type": "execute_result",
          "data": {
            "text/plain": [
              "array([[0.52263332, 0.890101  , 0.92250743, 0.64289622],\n",
              "       [0.45912331, 0.91781475, 0.57346457, 0.81707904],\n",
              "       [0.12128428, 0.45308912, 0.91862369, 0.73383162]])"
            ]
          },
          "metadata": {},
          "execution_count": 30
        }
      ]
    },
    {
      "cell_type": "code",
      "metadata": {
        "colab": {
          "base_uri": "https://localhost:8080/"
        },
        "id": "F6fwNN8upxyh",
        "outputId": "798fff28-fed0-404b-c597-069c9ad418af"
      },
      "source": [
        "np.random.normal(0,1,(3,3))"
      ],
      "execution_count": null,
      "outputs": [
        {
          "output_type": "execute_result",
          "data": {
            "text/plain": [
              "array([[-0.14109796, -0.38598013,  0.24503525],\n",
              "       [-0.93858023,  0.55264665, -0.4470895 ],\n",
              "       [-0.25011943,  1.27831894, -1.58779839]])"
            ]
          },
          "metadata": {},
          "execution_count": 31
        }
      ]
    },
    {
      "cell_type": "code",
      "metadata": {
        "colab": {
          "base_uri": "https://localhost:8080/"
        },
        "id": "MBahHsJOqAlA",
        "outputId": "a014b772-3980-4e43-b637-e7cd5eb99170"
      },
      "source": [
        "np.random.randint(0,10,(3,3))"
      ],
      "execution_count": null,
      "outputs": [
        {
          "output_type": "execute_result",
          "data": {
            "text/plain": [
              "array([[7, 2, 1],\n",
              "       [8, 1, 7],\n",
              "       [7, 6, 1]])"
            ]
          },
          "metadata": {},
          "execution_count": 33
        }
      ]
    },
    {
      "cell_type": "code",
      "metadata": {
        "colab": {
          "base_uri": "https://localhost:8080/"
        },
        "id": "yPNx0rfeqTcC",
        "outputId": "dedbbb64-44f5-4a46-facf-782f2c960a47"
      },
      "source": [
        "np.eye(3)"
      ],
      "execution_count": null,
      "outputs": [
        {
          "output_type": "execute_result",
          "data": {
            "text/plain": [
              "array([[1., 0., 0.],\n",
              "       [0., 1., 0.],\n",
              "       [0., 0., 1.]])"
            ]
          },
          "metadata": {},
          "execution_count": 34
        }
      ]
    },
    {
      "cell_type": "code",
      "metadata": {
        "colab": {
          "base_uri": "https://localhost:8080/"
        },
        "id": "dbuBkWzsqgDG",
        "outputId": "ff347294-f2dc-4ac4-c09a-dd0b7bf84a20"
      },
      "source": [
        "np.empty(3)"
      ],
      "execution_count": null,
      "outputs": [
        {
          "output_type": "execute_result",
          "data": {
            "text/plain": [
              "array([1., 1., 1.])"
            ]
          },
          "metadata": {},
          "execution_count": 35
        }
      ]
    },
    {
      "cell_type": "code",
      "metadata": {
        "colab": {
          "base_uri": "https://localhost:8080/"
        },
        "id": "YHyr2i5qr34A",
        "outputId": "cf3abbeb-236d-479d-838d-4858de098717"
      },
      "source": [
        "import numpy as np\n",
        "np.random.seed(0)\n",
        "x1=np.random.randint(10,size=6)\n",
        "x1"
      ],
      "execution_count": null,
      "outputs": [
        {
          "output_type": "execute_result",
          "data": {
            "text/plain": [
              "array([5, 0, 3, 3, 7, 9])"
            ]
          },
          "metadata": {},
          "execution_count": 37
        }
      ]
    },
    {
      "cell_type": "code",
      "metadata": {
        "colab": {
          "base_uri": "https://localhost:8080/"
        },
        "id": "cEK2e-CmsVAH",
        "outputId": "79d2cace-dc06-4106-e5f8-30eaed8e2637"
      },
      "source": [
        "np.random.seed(100)\n",
        "x2 = np.random.randint(200, size=(5,6,7))\n",
        "x2\n"
      ],
      "execution_count": null,
      "outputs": [
        {
          "output_type": "execute_result",
          "data": {
            "text/plain": [
              "array([[[  8,  24,  67, 103,  87,  79, 176],\n",
              "        [138,  94, 180,  98,  53,  66,  14],\n",
              "        [ 34,  24, 143, 107,  60,  58, 144],\n",
              "        [137,  93,  86, 130, 155, 108, 132],\n",
              "        [159, 129, 141, 100,   4,  91, 187],\n",
              "        [ 67, 135,  49, 175, 193,  61,  14]],\n",
              "\n",
              "       [[183, 199,  80,   2, 121, 105, 147],\n",
              "        [ 63, 181,  27,  56, 113, 158, 176],\n",
              "        [ 47, 167, 109,  38, 172,  18, 192],\n",
              "        [184, 162, 181,  17,  72,  13, 106],\n",
              "        [ 30,  17,  53,  68, 178,  91, 181],\n",
              "        [ 78,   0,  13, 185, 106, 131,  70]],\n",
              "\n",
              "       [[131, 138, 188, 131, 105, 176, 180],\n",
              "        [ 43,  36,   5,  71,  38,  94, 170],\n",
              "        [ 84,  95, 114, 119,  76,  33,  58],\n",
              "        [102, 170, 150,   0, 183, 147,  53],\n",
              "        [196, 190,  50, 196, 163, 151,   9],\n",
              "        [176,  21, 153, 182,   6, 165, 102]],\n",
              "\n",
              "       [[122, 116, 186,  39, 107,  51,  30],\n",
              "        [121,  66, 152, 183,  17,  45,  89],\n",
              "        [173,  35,  16,  12,  86, 109,  67],\n",
              "        [ 20, 138,   8, 158, 140, 146,  93],\n",
              "        [119,  92,  44,  57, 127,   0,  73],\n",
              "        [182,  66, 144, 133, 179,  90,  34]],\n",
              "\n",
              "       [[195,  94, 182,  77, 129,  14, 115],\n",
              "        [ 33, 148, 168,  24, 186,  28, 135],\n",
              "        [  2,  63, 113, 130, 145,  74, 181],\n",
              "        [ 30,  67, 156, 165,  82, 145, 138],\n",
              "        [141,  81, 117,  25, 194, 143, 108],\n",
              "        [122,  11, 101,  38, 116,  22,  55]]])"
            ]
          },
          "metadata": {},
          "execution_count": 40
        }
      ]
    },
    {
      "cell_type": "code",
      "metadata": {
        "colab": {
          "base_uri": "https://localhost:8080/"
        },
        "id": "xIRzRotKv5f6",
        "outputId": "5115218c-86ff-4ba2-dbcc-4d870cf3b584"
      },
      "source": [
        "np.random.seed(100)\n",
        "x2 = np.random.randint(200, size=(5,6,7))\n",
        "x2\n"
      ],
      "execution_count": null,
      "outputs": [
        {
          "output_type": "execute_result",
          "data": {
            "text/plain": [
              "array([[[  8,  24,  67, 103,  87,  79, 176],\n",
              "        [138,  94, 180,  98,  53,  66,  14],\n",
              "        [ 34,  24, 143, 107,  60,  58, 144],\n",
              "        [137,  93,  86, 130, 155, 108, 132],\n",
              "        [159, 129, 141, 100,   4,  91, 187],\n",
              "        [ 67, 135,  49, 175, 193,  61,  14]],\n",
              "\n",
              "       [[183, 199,  80,   2, 121, 105, 147],\n",
              "        [ 63, 181,  27,  56, 113, 158, 176],\n",
              "        [ 47, 167, 109,  38, 172,  18, 192],\n",
              "        [184, 162, 181,  17,  72,  13, 106],\n",
              "        [ 30,  17,  53,  68, 178,  91, 181],\n",
              "        [ 78,   0,  13, 185, 106, 131,  70]],\n",
              "\n",
              "       [[131, 138, 188, 131, 105, 176, 180],\n",
              "        [ 43,  36,   5,  71,  38,  94, 170],\n",
              "        [ 84,  95, 114, 119,  76,  33,  58],\n",
              "        [102, 170, 150,   0, 183, 147,  53],\n",
              "        [196, 190,  50, 196, 163, 151,   9],\n",
              "        [176,  21, 153, 182,   6, 165, 102]],\n",
              "\n",
              "       [[122, 116, 186,  39, 107,  51,  30],\n",
              "        [121,  66, 152, 183,  17,  45,  89],\n",
              "        [173,  35,  16,  12,  86, 109,  67],\n",
              "        [ 20, 138,   8, 158, 140, 146,  93],\n",
              "        [119,  92,  44,  57, 127,   0,  73],\n",
              "        [182,  66, 144, 133, 179,  90,  34]],\n",
              "\n",
              "       [[195,  94, 182,  77, 129,  14, 115],\n",
              "        [ 33, 148, 168,  24, 186,  28, 135],\n",
              "        [  2,  63, 113, 130, 145,  74, 181],\n",
              "        [ 30,  67, 156, 165,  82, 145, 138],\n",
              "        [141,  81, 117,  25, 194, 143, 108],\n",
              "        [122,  11, 101,  38, 116,  22,  55]]])"
            ]
          },
          "metadata": {},
          "execution_count": 41
        }
      ]
    },
    {
      "cell_type": "code",
      "metadata": {
        "colab": {
          "base_uri": "https://localhost:8080/"
        },
        "id": "qFyzBYz_v8a6",
        "outputId": "ad4c5251-20c8-45c0-f8ef-8f04374c25fd"
      },
      "source": [
        "x2.shape"
      ],
      "execution_count": null,
      "outputs": [
        {
          "output_type": "execute_result",
          "data": {
            "text/plain": [
              "(5, 6, 7)"
            ]
          },
          "metadata": {},
          "execution_count": 42
        }
      ]
    },
    {
      "cell_type": "code",
      "metadata": {
        "colab": {
          "base_uri": "https://localhost:8080/"
        },
        "id": "1M5bNewMwRCv",
        "outputId": "36c477ce-a66b-4a2a-fd32-ed5024751eb3"
      },
      "source": [
        "x2.ndim"
      ],
      "execution_count": null,
      "outputs": [
        {
          "output_type": "execute_result",
          "data": {
            "text/plain": [
              "3"
            ]
          },
          "metadata": {},
          "execution_count": 43
        }
      ]
    },
    {
      "cell_type": "code",
      "metadata": {
        "colab": {
          "base_uri": "https://localhost:8080/"
        },
        "id": "Jn7hjaFrwVxb",
        "outputId": "2d5e4d8d-2268-4386-9812-5e6fc6b7165a"
      },
      "source": [
        "x2.size"
      ],
      "execution_count": null,
      "outputs": [
        {
          "output_type": "execute_result",
          "data": {
            "text/plain": [
              "210"
            ]
          },
          "metadata": {},
          "execution_count": 44
        }
      ]
    },
    {
      "cell_type": "code",
      "metadata": {
        "colab": {
          "base_uri": "https://localhost:8080/"
        },
        "id": "_HZv0XBTwigk",
        "outputId": "067c0d23-1182-4f42-af27-da6fb037748c"
      },
      "source": [
        "x2.nbytes"
      ],
      "execution_count": null,
      "outputs": [
        {
          "output_type": "execute_result",
          "data": {
            "text/plain": [
              "1680"
            ]
          },
          "metadata": {},
          "execution_count": 45
        }
      ]
    },
    {
      "cell_type": "code",
      "metadata": {
        "colab": {
          "base_uri": "https://localhost:8080/"
        },
        "id": "PfYr1ZHCwnBU",
        "outputId": "3f3103a0-2b5e-4bde-a37e-a49b3ae5a6f4"
      },
      "source": [
        "x2.itemsize"
      ],
      "execution_count": null,
      "outputs": [
        {
          "output_type": "execute_result",
          "data": {
            "text/plain": [
              "8"
            ]
          },
          "metadata": {},
          "execution_count": 46
        }
      ]
    }
  ]
}